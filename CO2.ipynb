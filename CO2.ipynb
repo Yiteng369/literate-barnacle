{
 "cells": [
  {
   "cell_type": "code",
   "execution_count": 1,
   "id": "05ac881c",
   "metadata": {},
   "outputs": [],
   "source": [
    "import pandas as pd\n",
    "import numpy as np\n",
    "import seaborn as sns\n",
    "import matplotlib.pyplot as plt\n",
    "from sklearn import preprocessing\n",
    "from sklearn.preprocessing import StandardScaler\n",
    "from sklearn.decomposition import PCA\n",
    "from sklearn.tree import DecisionTreeClassifier\n",
    "from sklearn.metrics import accuracy_score, confusion_matrix\n",
    "from sklearn.metrics import classification_report"
   ]
  },
  {
   "cell_type": "markdown",
   "id": "190c84fa",
   "metadata": {},
   "source": [
    "## Import data file, preprocessing and grouping"
   ]
  },
  {
   "cell_type": "code",
   "execution_count": 2,
   "id": "1b49d2c3",
   "metadata": {},
   "outputs": [],
   "source": [
    "df = pd.read_csv(\"owid-co2-data.csv\")"
   ]
  },
  {
   "cell_type": "code",
   "execution_count": 3,
   "id": "f369636d",
   "metadata": {
    "scrolled": true
   },
   "outputs": [
    {
     "data": {
      "text/plain": [
       "(50598, 79)"
      ]
     },
     "execution_count": 3,
     "metadata": {},
     "output_type": "execute_result"
    }
   ],
   "source": [
    "df.shape"
   ]
  },
  {
   "cell_type": "markdown",
   "id": "c24b8fba",
   "metadata": {},
   "source": [
    "Delete empty data columns"
   ]
  },
  {
   "cell_type": "code",
   "execution_count": 4,
   "id": "57075077",
   "metadata": {},
   "outputs": [
    {
     "name": "stdout",
     "output_type": "stream",
     "text": [
      "<class 'pandas.core.frame.DataFrame'>\n",
      "Int64Index: 172 entries, 21294 to 21465\n",
      "Data columns (total 74 columns):\n",
      " #   Column                                     Non-Null Count  Dtype  \n",
      "---  ------                                     --------------  -----  \n",
      " 0   country                                    172 non-null    object \n",
      " 1   year                                       172 non-null    int64  \n",
      " 2   iso_code                                   172 non-null    object \n",
      " 3   population                                 172 non-null    float64\n",
      " 4   gdp                                        142 non-null    float64\n",
      " 5   cement_co2                                 94 non-null     float64\n",
      " 6   cement_co2_per_capita                      94 non-null     float64\n",
      " 7   co2                                        153 non-null    float64\n",
      " 8   co2_growth_abs                             151 non-null    float64\n",
      " 9   co2_growth_prct                            163 non-null    float64\n",
      " 10  co2_including_luc                          153 non-null    float64\n",
      " 11  co2_including_luc_growth_abs               151 non-null    float64\n",
      " 12  co2_including_luc_growth_prct              163 non-null    float64\n",
      " 13  co2_including_luc_per_capita               153 non-null    float64\n",
      " 14  co2_including_luc_per_gdp                  136 non-null    float64\n",
      " 15  co2_including_luc_per_unit_energy          57 non-null     float64\n",
      " 16  co2_per_capita                             153 non-null    float64\n",
      " 17  co2_per_gdp                                136 non-null    float64\n",
      " 18  co2_per_unit_energy                        57 non-null     float64\n",
      " 19  coal_co2                                   153 non-null    float64\n",
      " 20  coal_co2_per_capita                        153 non-null    float64\n",
      " 21  consumption_co2                            31 non-null     float64\n",
      " 22  consumption_co2_per_capita                 31 non-null     float64\n",
      " 23  consumption_co2_per_gdp                    29 non-null     float64\n",
      " 24  cumulative_cement_co2                      94 non-null     float64\n",
      " 25  cumulative_co2                             153 non-null    float64\n",
      " 26  cumulative_co2_including_luc               153 non-null    float64\n",
      " 27  cumulative_coal_co2                        153 non-null    float64\n",
      " 28  cumulative_flaring_co2                     153 non-null    float64\n",
      " 29  cumulative_gas_co2                         153 non-null    float64\n",
      " 30  cumulative_luc_co2                         172 non-null    float64\n",
      " 31  cumulative_oil_co2                         153 non-null    float64\n",
      " 32  energy_per_capita                          57 non-null     float64\n",
      " 33  energy_per_gdp                             54 non-null     float64\n",
      " 34  flaring_co2                                153 non-null    float64\n",
      " 35  flaring_co2_per_capita                     153 non-null    float64\n",
      " 36  gas_co2                                    153 non-null    float64\n",
      " 37  gas_co2_per_capita                         153 non-null    float64\n",
      " 38  ghg_excluding_lucf_per_capita              30 non-null     float64\n",
      " 39  ghg_per_capita                             30 non-null     float64\n",
      " 40  land_use_change_co2                        172 non-null    float64\n",
      " 41  land_use_change_co2_per_capita             172 non-null    float64\n",
      " 42  methane                                    30 non-null     float64\n",
      " 43  methane_per_capita                         30 non-null     float64\n",
      " 44  nitrous_oxide                              30 non-null     float64\n",
      " 45  nitrous_oxide_per_capita                   30 non-null     float64\n",
      " 46  oil_co2                                    153 non-null    float64\n",
      " 47  oil_co2_per_capita                         153 non-null    float64\n",
      " 48  primary_energy_consumption                 57 non-null     float64\n",
      " 49  share_global_cement_co2                    94 non-null     float64\n",
      " 50  share_global_co2                           153 non-null    float64\n",
      " 51  share_global_co2_including_luc             153 non-null    float64\n",
      " 52  share_global_coal_co2                      153 non-null    float64\n",
      " 53  share_global_cumulative_cement_co2         94 non-null     float64\n",
      " 54  share_global_cumulative_co2                153 non-null    float64\n",
      " 55  share_global_cumulative_co2_including_luc  153 non-null    float64\n",
      " 56  share_global_cumulative_coal_co2           153 non-null    float64\n",
      " 57  share_global_cumulative_flaring_co2        72 non-null     float64\n",
      " 58  share_global_cumulative_gas_co2            140 non-null    float64\n",
      " 59  share_global_cumulative_luc_co2            172 non-null    float64\n",
      " 60  share_global_cumulative_oil_co2            153 non-null    float64\n",
      " 61  share_global_flaring_co2                   72 non-null     float64\n",
      " 62  share_global_gas_co2                       140 non-null    float64\n",
      " 63  share_global_luc_co2                       172 non-null    float64\n",
      " 64  share_global_oil_co2                       153 non-null    float64\n",
      " 65  share_of_temperature_change_from_ghg       171 non-null    float64\n",
      " 66  temperature_change_from_ch4                171 non-null    float64\n",
      " 67  temperature_change_from_co2                171 non-null    float64\n",
      " 68  temperature_change_from_ghg                171 non-null    float64\n",
      " 69  temperature_change_from_n2o                171 non-null    float64\n",
      " 70  total_ghg                                  30 non-null     float64\n",
      " 71  total_ghg_excluding_lucf                   30 non-null     float64\n",
      " 72  trade_co2                                  31 non-null     float64\n",
      " 73  trade_co2_share                            31 non-null     float64\n",
      "dtypes: float64(71), int64(1), object(2)\n",
      "memory usage: 100.8+ KB\n"
     ]
    }
   ],
   "source": [
    "df = df[df['country']=='India']\n",
    "df = df.dropna(how='all', axis=1)\n",
    "df.info()"
   ]
  },
  {
   "cell_type": "code",
   "execution_count": 5,
   "id": "fb3c8112",
   "metadata": {
    "scrolled": false
   },
   "outputs": [
    {
     "data": {
      "image/png": "[encoded data removed]",
      "text/plain": [
       "<Figure size 720x432 with 1 Axes>"
      ]
     },
     "metadata": {
      "needs_background": "light"
     },
     "output_type": "display_data"
    }
   ],
   "source": [
    "plt.figure(figsize=(10,6))\n",
    "plt.plot(df.year, df.co2, label = 'co2')\n",
    "plt.xlabel('Year', fontsize=15)  # You can adjust the fontsize value\n",
    "plt.ylabel('Quantity(Mt)', fontsize=15) \n",
    "plt.show()"
   ]
  },
  {
   "cell_type": "markdown",
   "id": "b2527d91",
   "metadata": {},
   "source": [
    "Delete the row with a null CO2 value"
   ]
  },
  {
   "cell_type": "code",
   "execution_count": 6,
   "id": "a9d1ec0d",
   "metadata": {},
   "outputs": [],
   "source": [
    "df = df.drop(df[df.year < 1878].index)"
   ]
  },
  {
   "cell_type": "code",
   "execution_count": 7,
   "id": "63f5f8a9",
   "metadata": {},
   "outputs": [],
   "source": [
    "facts = ['year','population','gdp','coal_co2','flaring_co2','gas_co2','oil_co2','co2','share_global_co2','temperature_change_from_co2']\n",
    "df = pd.DataFrame(df, columns=facts)"
   ]
  },
  {
   "cell_type": "code",
   "execution_count": 8,
   "id": "9642e0a8",
   "metadata": {
    "scrolled": true
   },
   "outputs": [
    {
     "name": "stdout",
     "output_type": "stream",
     "text": [
      "<class 'pandas.core.frame.DataFrame'>\n",
      "Int64Index: 144 entries, 21322 to 21465\n",
      "Data columns (total 10 columns):\n",
      " #   Column                       Non-Null Count  Dtype  \n",
      "---  ------                       --------------  -----  \n",
      " 0   year                         144 non-null    int64  \n",
      " 1   population                   144 non-null    float64\n",
      " 2   gdp                          138 non-null    float64\n",
      " 3   coal_co2                     144 non-null    float64\n",
      " 4   flaring_co2                  144 non-null    float64\n",
      " 5   gas_co2                      144 non-null    float64\n",
      " 6   oil_co2                      144 non-null    float64\n",
      " 7   co2                          144 non-null    float64\n",
      " 8   share_global_co2             144 non-null    float64\n",
      " 9   temperature_change_from_co2  144 non-null    float64\n",
      "dtypes: float64(9), int64(1)\n",
      "memory usage: 12.4 KB\n"
     ]
    }
   ],
   "source": [
    "df.info()"
   ]
  },
  {
   "cell_type": "code",
   "execution_count": 12,
   "id": "2f6ba429",
   "metadata": {
    "scrolled": true
   },
   "outputs": [
    {
     "ename": "AttributeError",
     "evalue": "'NoneType' object has no attribute 'info'",
     "output_type": "error",
     "traceback": [
      "\u001b[1;31m---------------------------------------------------------------------------\u001b[0m",
      "\u001b[1;31mAttributeError\u001b[0m                            Traceback (most recent call last)",
      "\u001b[1;32mD:\\Temp/ipykernel_5592/3445693062.py\u001b[0m in \u001b[0;36m<module>\u001b[1;34m\u001b[0m\n\u001b[0;32m      3\u001b[0m \u001b[1;33m\u001b[0m\u001b[0m\n\u001b[0;32m      4\u001b[0m \u001b[1;31m# df = df.dropna(how='any', axis=0)\u001b[0m\u001b[1;33m\u001b[0m\u001b[1;33m\u001b[0m\u001b[0m\n\u001b[1;32m----> 5\u001b[1;33m \u001b[0mdf\u001b[0m\u001b[1;33m.\u001b[0m\u001b[0minfo\u001b[0m\u001b[1;33m(\u001b[0m\u001b[1;33m)\u001b[0m\u001b[1;33m\u001b[0m\u001b[1;33m\u001b[0m\u001b[0m\n\u001b[0m",
      "\u001b[1;31mAttributeError\u001b[0m: 'NoneType' object has no attribute 'info'"
     ]
    }
   ],
   "source": [
    "# Replace NaN values with the rolling mean of the two adjacent items\n",
    "df['gdp'].fillna(df['gdp'].rolling(3, min_periods=1).mean(), inplace=True)\n",
    "\n",
    "# df = df.dropna(how='any', axis=0)\n",
    "df.info()"
   ]
  },
  {
   "cell_type": "code",
   "execution_count": 10,
   "id": "373de58f",
   "metadata": {},
   "outputs": [
    {
     "data": {
      "text/html": [
       "<div>\n",
       "<style scoped>\n",
       "    .dataframe tbody tr th:only-of-type {\n",
       "        vertical-align: middle;\n",
       "    }\n",
       "\n",
       "    .dataframe tbody tr th {\n",
       "        vertical-align: top;\n",
       "    }\n",
       "\n",
       "    .dataframe thead th {\n",
       "        text-align: right;\n",
       "    }\n",
       "</style>\n",
       "<table border=\"1\" class=\"dataframe\">\n",
       "  <thead>\n",
       "    <tr style=\"text-align: right;\">\n",
       "      <th></th>\n",
       "      <th>year</th>\n",
       "      <th>population</th>\n",
       "      <th>gdp</th>\n",
       "      <th>coal_co2</th>\n",
       "      <th>flaring_co2</th>\n",
       "      <th>gas_co2</th>\n",
       "      <th>oil_co2</th>\n",
       "      <th>co2</th>\n",
       "      <th>share_global_co2</th>\n",
       "      <th>temperature_change_from_co2</th>\n",
       "    </tr>\n",
       "  </thead>\n",
       "  <tbody>\n",
       "    <tr>\n",
       "      <th>count</th>\n",
       "      <td>144.000000</td>\n",
       "      <td>1.440000e+02</td>\n",
       "      <td>1.380000e+02</td>\n",
       "      <td>144.000000</td>\n",
       "      <td>144.000000</td>\n",
       "      <td>144.000000</td>\n",
       "      <td>144.000000</td>\n",
       "      <td>144.000000</td>\n",
       "      <td>144.000000</td>\n",
       "      <td>144.000000</td>\n",
       "    </tr>\n",
       "    <tr>\n",
       "      <th>mean</th>\n",
       "      <td>1949.500000</td>\n",
       "      <td>5.680855e+08</td>\n",
       "      <td>1.466848e+12</td>\n",
       "      <td>257.034479</td>\n",
       "      <td>1.262625</td>\n",
       "      <td>17.242347</td>\n",
       "      <td>102.765701</td>\n",
       "      <td>396.529660</td>\n",
       "      <td>1.821785</td>\n",
       "      <td>0.009278</td>\n",
       "    </tr>\n",
       "    <tr>\n",
       "      <th>std</th>\n",
       "      <td>41.713307</td>\n",
       "      <td>3.519705e+08</td>\n",
       "      <td>2.159338e+12</td>\n",
       "      <td>420.778442</td>\n",
       "      <td>2.025272</td>\n",
       "      <td>36.252973</td>\n",
       "      <td>173.756307</td>\n",
       "      <td>664.273634</td>\n",
       "      <td>1.718639</td>\n",
       "      <td>0.008788</td>\n",
       "    </tr>\n",
       "    <tr>\n",
       "      <th>min</th>\n",
       "      <td>1878.000000</td>\n",
       "      <td>2.540797e+08</td>\n",
       "      <td>2.340000e+11</td>\n",
       "      <td>1.611000</td>\n",
       "      <td>0.000000</td>\n",
       "      <td>0.000000</td>\n",
       "      <td>0.000000</td>\n",
       "      <td>1.684000</td>\n",
       "      <td>0.208000</td>\n",
       "      <td>0.001000</td>\n",
       "    </tr>\n",
       "    <tr>\n",
       "      <th>25%</th>\n",
       "      <td>1913.750000</td>\n",
       "      <td>2.972766e+08</td>\n",
       "      <td>3.360000e+11</td>\n",
       "      <td>28.559250</td>\n",
       "      <td>0.000000</td>\n",
       "      <td>0.000000</td>\n",
       "      <td>1.097500</td>\n",
       "      <td>31.640250</td>\n",
       "      <td>0.919000</td>\n",
       "      <td>0.002000</td>\n",
       "    </tr>\n",
       "    <tr>\n",
       "      <th>50%</th>\n",
       "      <td>1949.500000</td>\n",
       "      <td>3.729985e+08</td>\n",
       "      <td>4.325000e+11</td>\n",
       "      <td>53.441500</td>\n",
       "      <td>0.000000</td>\n",
       "      <td>0.000000</td>\n",
       "      <td>5.540000</td>\n",
       "      <td>58.645500</td>\n",
       "      <td>1.122500</td>\n",
       "      <td>0.006000</td>\n",
       "    </tr>\n",
       "    <tr>\n",
       "      <th>75%</th>\n",
       "      <td>1985.250000</td>\n",
       "      <td>7.846513e+08</td>\n",
       "      <td>1.395000e+12</td>\n",
       "      <td>258.259750</td>\n",
       "      <td>2.080750</td>\n",
       "      <td>7.977500</td>\n",
       "      <td>118.034250</td>\n",
       "      <td>404.771500</td>\n",
       "      <td>1.983750</td>\n",
       "      <td>0.013250</td>\n",
       "    </tr>\n",
       "    <tr>\n",
       "      <th>max</th>\n",
       "      <td>2021.000000</td>\n",
       "      <td>1.407564e+09</td>\n",
       "      <td>1.030000e+13</td>\n",
       "      <td>1802.312000</td>\n",
       "      <td>11.003000</td>\n",
       "      <td>136.364000</td>\n",
       "      <td>674.011000</td>\n",
       "      <td>2709.684000</td>\n",
       "      <td>7.299000</td>\n",
       "      <td>0.036000</td>\n",
       "    </tr>\n",
       "  </tbody>\n",
       "</table>\n",
       "</div>"
      ],
      "text/plain": [
       "              year    population           gdp     coal_co2  flaring_co2  \\\n",
       "count   144.000000  1.440000e+02  1.380000e+02   144.000000   144.000000   \n",
       "mean   1949.500000  5.680855e+08  1.466848e+12   257.034479     1.262625   \n",
       "std      41.713307  3.519705e+08  2.159338e+12   420.778442     2.025272   \n",
       "min    1878.000000  2.540797e+08  2.340000e+11     1.611000     0.000000   \n",
       "25%    1913.750000  2.972766e+08  3.360000e+11    28.559250     0.000000   \n",
       "50%    1949.500000  3.729985e+08  4.325000e+11    53.441500     0.000000   \n",
       "75%    1985.250000  7.846513e+08  1.395000e+12   258.259750     2.080750   \n",
       "max    2021.000000  1.407564e+09  1.030000e+13  1802.312000    11.003000   \n",
       "\n",
       "          gas_co2     oil_co2          co2  share_global_co2  \\\n",
       "count  144.000000  144.000000   144.000000        144.000000   \n",
       "mean    17.242347  102.765701   396.529660          1.821785   \n",
       "std     36.252973  173.756307   664.273634          1.718639   \n",
       "min      0.000000    0.000000     1.684000          0.208000   \n",
       "25%      0.000000    1.097500    31.640250          0.919000   \n",
       "50%      0.000000    5.540000    58.645500          1.122500   \n",
       "75%      7.977500  118.034250   404.771500          1.983750   \n",
       "max    136.364000  674.011000  2709.684000          7.299000   \n",
       "\n",
       "       temperature_change_from_co2  \n",
       "count                   144.000000  \n",
       "mean                      0.009278  \n",
       "std                       0.008788  \n",
       "min                       0.001000  \n",
       "25%                       0.002000  \n",
       "50%                       0.006000  \n",
       "75%                       0.013250  \n",
       "max                       0.036000  "
      ]
     },
     "execution_count": 10,
     "metadata": {},
     "output_type": "execute_result"
    }
   ],
   "source": [
    "df.describe(percentiles=[.25,.75])"
   ]
  },
  {
   "cell_type": "code",
   "execution_count": 11,
   "id": "eb49f90f",
   "metadata": {},
   "outputs": [
    {
     "ename": "ValueError",
     "evalue": "Input contains NaN, infinity or a value too large for dtype('float64').",
     "output_type": "error",
     "traceback": [
      "\u001b[1;31m---------------------------------------------------------------------------\u001b[0m",
      "\u001b[1;31mValueError\u001b[0m                                Traceback (most recent call last)",
      "\u001b[1;32mD:\\Temp/ipykernel_5592/47268330.py\u001b[0m in \u001b[0;36m<module>\u001b[1;34m\u001b[0m\n\u001b[0;32m      6\u001b[0m \u001b[1;31m# Perform PCA\u001b[0m\u001b[1;33m\u001b[0m\u001b[1;33m\u001b[0m\u001b[0m\n\u001b[0;32m      7\u001b[0m \u001b[0mpca\u001b[0m \u001b[1;33m=\u001b[0m \u001b[0mPCA\u001b[0m\u001b[1;33m(\u001b[0m\u001b[1;33m)\u001b[0m\u001b[1;33m\u001b[0m\u001b[1;33m\u001b[0m\u001b[0m\n\u001b[1;32m----> 8\u001b[1;33m \u001b[0mpca\u001b[0m\u001b[1;33m.\u001b[0m\u001b[0mfit\u001b[0m\u001b[1;33m(\u001b[0m\u001b[0mdf_scaled\u001b[0m\u001b[1;33m)\u001b[0m\u001b[1;33m\u001b[0m\u001b[1;33m\u001b[0m\u001b[0m\n\u001b[0m\u001b[0;32m      9\u001b[0m \u001b[1;33m\u001b[0m\u001b[0m\n\u001b[0;32m     10\u001b[0m \u001b[1;31m# Calculate the percentage of variance explained by each principal component\u001b[0m\u001b[1;33m\u001b[0m\u001b[1;33m\u001b[0m\u001b[0m\n",
      "\u001b[1;32mD:\\Anaconda\\lib\\site-packages\\sklearn\\decomposition\\_pca.py\u001b[0m in \u001b[0;36mfit\u001b[1;34m(self, X, y)\u001b[0m\n\u001b[0;32m    357\u001b[0m             \u001b[0mReturns\u001b[0m \u001b[0mthe\u001b[0m \u001b[0minstance\u001b[0m \u001b[0mitself\u001b[0m\u001b[1;33m.\u001b[0m\u001b[1;33m\u001b[0m\u001b[1;33m\u001b[0m\u001b[0m\n\u001b[0;32m    358\u001b[0m         \"\"\"\n\u001b[1;32m--> 359\u001b[1;33m         \u001b[0mself\u001b[0m\u001b[1;33m.\u001b[0m\u001b[0m_fit\u001b[0m\u001b[1;33m(\u001b[0m\u001b[0mX\u001b[0m\u001b[1;33m)\u001b[0m\u001b[1;33m\u001b[0m\u001b[1;33m\u001b[0m\u001b[0m\n\u001b[0m\u001b[0;32m    360\u001b[0m         \u001b[1;32mreturn\u001b[0m \u001b[0mself\u001b[0m\u001b[1;33m\u001b[0m\u001b[1;33m\u001b[0m\u001b[0m\n\u001b[0;32m    361\u001b[0m \u001b[1;33m\u001b[0m\u001b[0m\n",
      "\u001b[1;32mD:\\Anaconda\\lib\\site-packages\\sklearn\\decomposition\\_pca.py\u001b[0m in \u001b[0;36m_fit\u001b[1;34m(self, X)\u001b[0m\n\u001b[0;32m    402\u001b[0m                             'TruncatedSVD for a possible alternative.')\n\u001b[0;32m    403\u001b[0m \u001b[1;33m\u001b[0m\u001b[0m\n\u001b[1;32m--> 404\u001b[1;33m         X = self._validate_data(X, dtype=[np.float64, np.float32],\n\u001b[0m\u001b[0;32m    405\u001b[0m                                 ensure_2d=True, copy=self.copy)\n\u001b[0;32m    406\u001b[0m \u001b[1;33m\u001b[0m\u001b[0m\n",
      "\u001b[1;32mD:\\Anaconda\\lib\\site-packages\\sklearn\\base.py\u001b[0m in \u001b[0;36m_validate_data\u001b[1;34m(self, X, y, reset, validate_separately, **check_params)\u001b[0m\n\u001b[0;32m    419\u001b[0m             \u001b[0mout\u001b[0m \u001b[1;33m=\u001b[0m \u001b[0mX\u001b[0m\u001b[1;33m\u001b[0m\u001b[1;33m\u001b[0m\u001b[0m\n\u001b[0;32m    420\u001b[0m         \u001b[1;32melif\u001b[0m \u001b[0misinstance\u001b[0m\u001b[1;33m(\u001b[0m\u001b[0my\u001b[0m\u001b[1;33m,\u001b[0m \u001b[0mstr\u001b[0m\u001b[1;33m)\u001b[0m \u001b[1;32mand\u001b[0m \u001b[0my\u001b[0m \u001b[1;33m==\u001b[0m \u001b[1;34m'no_validation'\u001b[0m\u001b[1;33m:\u001b[0m\u001b[1;33m\u001b[0m\u001b[1;33m\u001b[0m\u001b[0m\n\u001b[1;32m--> 421\u001b[1;33m             \u001b[0mX\u001b[0m \u001b[1;33m=\u001b[0m \u001b[0mcheck_array\u001b[0m\u001b[1;33m(\u001b[0m\u001b[0mX\u001b[0m\u001b[1;33m,\u001b[0m \u001b[1;33m**\u001b[0m\u001b[0mcheck_params\u001b[0m\u001b[1;33m)\u001b[0m\u001b[1;33m\u001b[0m\u001b[1;33m\u001b[0m\u001b[0m\n\u001b[0m\u001b[0;32m    422\u001b[0m             \u001b[0mout\u001b[0m \u001b[1;33m=\u001b[0m \u001b[0mX\u001b[0m\u001b[1;33m\u001b[0m\u001b[1;33m\u001b[0m\u001b[0m\n\u001b[0;32m    423\u001b[0m         \u001b[1;32melse\u001b[0m\u001b[1;33m:\u001b[0m\u001b[1;33m\u001b[0m\u001b[1;33m\u001b[0m\u001b[0m\n",
      "\u001b[1;32mD:\\Anaconda\\lib\\site-packages\\sklearn\\utils\\validation.py\u001b[0m in \u001b[0;36minner_f\u001b[1;34m(*args, **kwargs)\u001b[0m\n\u001b[0;32m     61\u001b[0m             \u001b[0mextra_args\u001b[0m \u001b[1;33m=\u001b[0m \u001b[0mlen\u001b[0m\u001b[1;33m(\u001b[0m\u001b[0margs\u001b[0m\u001b[1;33m)\u001b[0m \u001b[1;33m-\u001b[0m \u001b[0mlen\u001b[0m\u001b[1;33m(\u001b[0m\u001b[0mall_args\u001b[0m\u001b[1;33m)\u001b[0m\u001b[1;33m\u001b[0m\u001b[1;33m\u001b[0m\u001b[0m\n\u001b[0;32m     62\u001b[0m             \u001b[1;32mif\u001b[0m \u001b[0mextra_args\u001b[0m \u001b[1;33m<=\u001b[0m \u001b[1;36m0\u001b[0m\u001b[1;33m:\u001b[0m\u001b[1;33m\u001b[0m\u001b[1;33m\u001b[0m\u001b[0m\n\u001b[1;32m---> 63\u001b[1;33m                 \u001b[1;32mreturn\u001b[0m \u001b[0mf\u001b[0m\u001b[1;33m(\u001b[0m\u001b[1;33m*\u001b[0m\u001b[0margs\u001b[0m\u001b[1;33m,\u001b[0m \u001b[1;33m**\u001b[0m\u001b[0mkwargs\u001b[0m\u001b[1;33m)\u001b[0m\u001b[1;33m\u001b[0m\u001b[1;33m\u001b[0m\u001b[0m\n\u001b[0m\u001b[0;32m     64\u001b[0m \u001b[1;33m\u001b[0m\u001b[0m\n\u001b[0;32m     65\u001b[0m             \u001b[1;31m# extra_args > 0\u001b[0m\u001b[1;33m\u001b[0m\u001b[1;33m\u001b[0m\u001b[0m\n",
      "\u001b[1;32mD:\\Anaconda\\lib\\site-packages\\sklearn\\utils\\validation.py\u001b[0m in \u001b[0;36mcheck_array\u001b[1;34m(array, accept_sparse, accept_large_sparse, dtype, order, copy, force_all_finite, ensure_2d, allow_nd, ensure_min_samples, ensure_min_features, estimator)\u001b[0m\n\u001b[0;32m    718\u001b[0m \u001b[1;33m\u001b[0m\u001b[0m\n\u001b[0;32m    719\u001b[0m         \u001b[1;32mif\u001b[0m \u001b[0mforce_all_finite\u001b[0m\u001b[1;33m:\u001b[0m\u001b[1;33m\u001b[0m\u001b[1;33m\u001b[0m\u001b[0m\n\u001b[1;32m--> 720\u001b[1;33m             _assert_all_finite(array,\n\u001b[0m\u001b[0;32m    721\u001b[0m                                allow_nan=force_all_finite == 'allow-nan')\n\u001b[0;32m    722\u001b[0m \u001b[1;33m\u001b[0m\u001b[0m\n",
      "\u001b[1;32mD:\\Anaconda\\lib\\site-packages\\sklearn\\utils\\validation.py\u001b[0m in \u001b[0;36m_assert_all_finite\u001b[1;34m(X, allow_nan, msg_dtype)\u001b[0m\n\u001b[0;32m    101\u001b[0m                 not allow_nan and not np.isfinite(X).all()):\n\u001b[0;32m    102\u001b[0m             \u001b[0mtype_err\u001b[0m \u001b[1;33m=\u001b[0m \u001b[1;34m'infinity'\u001b[0m \u001b[1;32mif\u001b[0m \u001b[0mallow_nan\u001b[0m \u001b[1;32melse\u001b[0m \u001b[1;34m'NaN, infinity'\u001b[0m\u001b[1;33m\u001b[0m\u001b[1;33m\u001b[0m\u001b[0m\n\u001b[1;32m--> 103\u001b[1;33m             raise ValueError(\n\u001b[0m\u001b[0;32m    104\u001b[0m                     \u001b[0mmsg_err\u001b[0m\u001b[1;33m.\u001b[0m\u001b[0mformat\u001b[0m\u001b[1;33m\u001b[0m\u001b[1;33m\u001b[0m\u001b[0m\n\u001b[0;32m    105\u001b[0m                     (type_err,\n",
      "\u001b[1;31mValueError\u001b[0m: Input contains NaN, infinity or a value too large for dtype('float64')."
     ]
    }
   ],
   "source": [
    "# Standardize the data\n",
    "from sklearn.preprocessing import StandardScaler\n",
    "scaler = StandardScaler()\n",
    "df_scaled = scaler.fit_transform(df)\n",
    "\n",
    "# Perform PCA\n",
    "pca = PCA()\n",
    "pca.fit(df_scaled)\n",
    "\n",
    "# Calculate the percentage of variance explained by each principal component\n",
    "explained_variance = pca.explained_variance_ratio_\n",
    "\n",
    "# Create a bar chart to visualize the explained variance\n",
    "plt.bar(range(1, len(explained_variance) + 1), explained_variance, alpha=0.5, align='center')\n",
    "plt.xlabel('Principal Components')\n",
    "plt.ylabel('Percentage of Variance Explained')\n",
    "plt.title('Explained Variance by Principal Component')\n",
    "plt.show()\n",
    "\n",
    "print(\"Explained Variance by Principal Component:\")\n",
    "for i, variance in enumerate(explained_variance):\n",
    "    print(f\"Principal Component {i + 1}: {variance:.2%}\")\n"
   ]
  },
  {
   "cell_type": "code",
   "execution_count": null,
   "id": "3eff8195",
   "metadata": {},
   "outputs": [],
   "source": [
    "pca_result = pca.transform(df_scaled)[:, :2]\n",
    "\n",
    "def biplot(score, coeff, labels=None):\n",
    "    plt.figure(figsize=(10, 10))\n",
    "    xs = score[:, 0]\n",
    "    ys = score[:, 1]\n",
    "    n = coeff.shape[0]\n",
    "\n",
    "    scalex = 1.0 / (xs.max() - xs.min())\n",
    "    scaley = 1.0 / (ys.max() - ys.min())\n",
    "\n",
    "    for i in range(n):\n",
    "        plt.arrow(0, 0, coeff[i, 0], coeff[i, 1], color='r', alpha=0.8)\n",
    "        if labels is None:\n",
    "            plt.text(coeff[i, 0] * 1.15, coeff[i, 1] * 1.15, f\"Var {i+1}\", color='g', ha='center', va='center')\n",
    "        else:\n",
    "            plt.text(coeff[i, 0] * 1.15, coeff[i, 1] * 1.15, labels[i], color='g', ha='center', va='center')\n",
    "\n",
    "    plt.xlim(-1, 1)\n",
    "    plt.ylim(-1, 1)\n",
    "    plt.xlabel(f\"PC1 ({explained_variance[0]:.2%} of variance explained)\")\n",
    "    plt.ylabel(f\"PC2 ({explained_variance[1]:.2%} of variance explained)\")\n",
    "    plt.grid()\n",
    "    plt.show()\n",
    "\n",
    "biplot(pca_result, pca.components_.T, labels=df.columns)"
   ]
  },
  {
   "cell_type": "code",
   "execution_count": null,
   "id": "c3b6ce57",
   "metadata": {
    "scrolled": false
   },
   "outputs": [],
   "source": [
    "# corrmat = df.corr()\n",
    "# plt.subplots(figsize=(10,10))\n",
    "# sns.heatmap(corrmat, annot=True, square=True, annot_kws={\"size\": 12})\n",
    "# heatmap.set_xticklabels(heatmap.get_xticklabels(), size=16)\n",
    "corrmat = df.corr()  # Calculate the correlation matrix\n",
    "\n",
    "plt.figure(figsize=(10, 10))  # Set the figure size\n",
    "\n",
    "# Create a heatmap of the correlation matrix with annotations and set the font size\n",
    "heatmap = sns.heatmap(corrmat, annot=True, square=True, annot_kws={\"size\": 12})  # Adjust the \"size\" value for your desired font size\n",
    "\n",
    "# Increase the font size of specific text items (e.g., x-axis label)\n",
    "heatmap.set_xticklabels(heatmap.get_xticklabels(), size=16)  # Adjust the \"size\" value for your desired font size\n",
    "heatmap.set_yticklabels(heatmap.get_yticklabels(), size=16)\n",
    "plt.show()  # Display the heatmap"
   ]
  },
  {
   "cell_type": "code",
   "execution_count": null,
   "id": "56973579",
   "metadata": {},
   "outputs": [],
   "source": []
  }
 ],
 "metadata": {
  "kernelspec": {
   "display_name": "Python 3 (ipykernel)",
   "language": "python",
   "name": "python3"
  },
  "language_info": {
   "codemirror_mode": {
    "name": "ipython",
    "version": 3
   },
   "file_extension": ".py",
   "mimetype": "text/x-python",
   "name": "python",
   "nbconvert_exporter": "python",
   "pygments_lexer": "ipython3",
   "version": "3.9.7"
  }
 },
 "nbformat": 4,
 "nbformat_minor": 5
}
